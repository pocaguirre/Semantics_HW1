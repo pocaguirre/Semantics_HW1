{
 "cells": [
  {
   "cell_type": "code",
   "execution_count": 1,
   "metadata": {},
   "outputs": [],
   "source": [
    "from decomp import UDSCorpus\n",
    "import pandas as pd"
   ]
  },
  {
   "cell_type": "code",
   "execution_count": 82,
   "metadata": {},
   "outputs": [],
   "source": [
    "class data_prep():\n",
    "    def __init__(self):\n",
    "        self.data_list = []\n",
    "    \n",
    "    def check_item(self, sent_id, graph):\n",
    "        tokenized = graph.sentence\n",
    "        for (arg0, arg1), edge in graph.semantics_edges().items():\n",
    "            if 'protoroles' in edge:\n",
    "                arg0 = arg0.split('-')\n",
    "                arg1 = arg1.split('-')\n",
    "                if arg0[-2] == 'pred':\n",
    "                    pred = int(arg0[-1]) - 1\n",
    "                    arg = int(arg1[-1]) - 1\n",
    "                else:\n",
    "                    pred = int(arg1[-1]) - 1\n",
    "                    arg = int(arg0[-1]) - 1\n",
    "                \n",
    "                if not self.check_forces(pred, arg, tokenized, edge['protoroles']):\n",
    "                    if not self.check_agent(pred, arg, tokenized, edge['protoroles']):\n",
    "                        if not self.check_patient(pred, arg, tokenized, edge['protoroles']):\n",
    "                            if not self.check_instrument(pred, arg, tokenized, edge['protoroles']):\n",
    "                                if not self.check_manner(pred, arg, tokenized, edge['protoroles']):\n",
    "                                    self.data_list.append((pred, arg, tokenized, 'NONE'))\n",
    "                \n",
    "    def check_agent(self, pred_id, arg_id, tokenized, graph):\n",
    "        tmp = {'value': 0}\n",
    "        if (graph.get('volition', tmp)['value'] > 0 or graph.get('instigation', tmp)['value'] > 0) and graph.get('existed_before',tmp)['value'] > 0:\n",
    "            self.data_list.append((pred_id, arg_id, tokenized, 'AGENT'))\n",
    "            return True\n",
    "        return False\n",
    "    \n",
    "    def check_patient(self, pred_id, arg_id, tokenized, graph):\n",
    "        tmp = {'value': 0}\n",
    "        if (graph.get('change_of_state', tmp)['value'] > 0 or graph.get('change_of_state_continuous', tmp)['value'] > 0) and graph.get('instigated',tmp)['value'] <= 0 and graph.get('volition',tmp)['value'] <= 0:\n",
    "            self.data_list.append((pred_id, arg_id, tokenized, 'PATIENT'))\n",
    "            return True\n",
    "        return False\n",
    "    \n",
    "    def check_instrument(self, pred_id, arg_id, tokenized, graph):\n",
    "        tmp = {'value': 0}\n",
    "        if graph.get('was_used', tmp)['value'] > 0 and graph.get('volition', tmp)['value'] <= 0 and graph.get('sentient', tmp)['value'] <= 0 and graph.get('awareness', tmp)['value'] <= 0:\n",
    "            self.data_list.append((pred_id, arg_id, tokenized, 'INSTRUMENT'))\n",
    "            return True\n",
    "        return False\n",
    "    \n",
    "    def check_manner(self, pred_id, arg_id, tokenized, graph):\n",
    "        tmp = {'value': 0}\n",
    "        if graph.get('manner', tmp)['value'] > 0:\n",
    "            self.data_list.append((pred_id, arg_id, tokenized, 'MANNER'))\n",
    "#             print(f\"{tokenized.split()[pred_id]}|{tokenized.split()[arg_id]}| {tokenized}\")\n",
    "            return True\n",
    "        return False\n",
    "    \n",
    "    def check_forces(self, pred_id, arg_id, tokenized, graph):\n",
    "        tmp = {'value': 0}\n",
    "        if graph.get('instigation', tmp)['value'] > 0  and graph.get('sentient', tmp)['value'] <= 0 and graph.get('volition', tmp)['value'] <= 0 and graph.get('awareness', tmp)['value'] <= 0 and graph.get('existed_during',tmp)['value'] > 0:\n",
    "            self.data_list.append((pred_id, arg_id, tokenized, 'FORCES'))\n",
    "#             print(f\"{tokenized.split()[pred_id]}|{tokenized.split()[arg_id]}| {tokenized}\")\n",
    "            return True\n",
    "        return False\n",
    "    \n",
    "    def get_df(self):\n",
    "        temp_list = []\n",
    "        for role in self.data_list:\n",
    "            temp_list.append({\"pred_ind\": role[0], \"arg_ind\": role[1], \"tokenized\": role[2], \"label\": role[3]})\n",
    "        return pd.DataFrame(temp_list)\n",
    "        "
   ]
  },
  {
   "cell_type": "code",
   "execution_count": 17,
   "metadata": {},
   "outputs": [],
   "source": [
    "uds_train = UDSCorpus(split='train')"
   ]
  },
  {
   "cell_type": "code",
   "execution_count": 83,
   "metadata": {},
   "outputs": [],
   "source": [
    "dp = data_prep()\n",
    "for sent_id, r in uds_train.items():\n",
    "    dp.check_item(sent_id, r)"
   ]
  },
  {
   "cell_type": "code",
   "execution_count": 84,
   "metadata": {},
   "outputs": [],
   "source": [
    "dp.get_df().to_csv('dataset_train.tsv', sep='\\t')"
   ]
  },
  {
   "cell_type": "markdown",
   "metadata": {},
   "source": [
    "# DEV"
   ]
  },
  {
   "cell_type": "code",
   "execution_count": 77,
   "metadata": {},
   "outputs": [],
   "source": [
    "uds_dev = UDSCorpus(split='dev')"
   ]
  },
  {
   "cell_type": "code",
   "execution_count": 85,
   "metadata": {},
   "outputs": [
    {
     "data": {
      "text/plain": [
       "label\n",
       "AGENT         312\n",
       "FORCES         95\n",
       "INSTRUMENT     81\n",
       "MANNER         38\n",
       "NONE          151\n",
       "PATIENT        74\n",
       "dtype: int64"
      ]
     },
     "execution_count": 85,
     "metadata": {},
     "output_type": "execute_result"
    }
   ],
   "source": [
    "dp_dev = data_prep()\n",
    "for sent_id, r in uds_dev.items():\n",
    "    dp_dev.check_item(sent_id, r)\n",
    "dp_dev.get_df().groupby('label').size()"
   ]
  },
  {
   "cell_type": "code",
   "execution_count": 86,
   "metadata": {},
   "outputs": [],
   "source": [
    "dp_dev.get_df().to_csv('dataset_dev.tsv', sep='\\t')"
   ]
  },
  {
   "cell_type": "markdown",
   "metadata": {},
   "source": [
    "# Test"
   ]
  },
  {
   "cell_type": "code",
   "execution_count": 63,
   "metadata": {},
   "outputs": [],
   "source": [
    "uds_test = UDSCorpus(split='test')"
   ]
  },
  {
   "cell_type": "code",
   "execution_count": 87,
   "metadata": {},
   "outputs": [
    {
     "data": {
      "text/plain": [
       "label\n",
       "AGENT         297\n",
       "FORCES         94\n",
       "INSTRUMENT     72\n",
       "MANNER         33\n",
       "NONE          113\n",
       "PATIENT        61\n",
       "dtype: int64"
      ]
     },
     "execution_count": 87,
     "metadata": {},
     "output_type": "execute_result"
    }
   ],
   "source": [
    "dp_test = data_prep()\n",
    "for sent_id, r in uds_test.items():\n",
    "    dp_test.check_item(sent_id, r)\n",
    "dp_test.get_df().groupby('label').size()"
   ]
  },
  {
   "cell_type": "code",
   "execution_count": 88,
   "metadata": {},
   "outputs": [],
   "source": [
    "dp_test.get_df().to_csv('dataset_test.tsv', sep='\\t')"
   ]
  },
  {
   "cell_type": "code",
   "execution_count": null,
   "metadata": {},
   "outputs": [],
   "source": []
  }
 ],
 "metadata": {
  "kernelspec": {
   "display_name": "py38",
   "language": "python",
   "name": "py38"
  },
  "language_info": {
   "codemirror_mode": {
    "name": "ipython",
    "version": 3
   },
   "file_extension": ".py",
   "mimetype": "text/x-python",
   "name": "python",
   "nbconvert_exporter": "python",
   "pygments_lexer": "ipython3",
   "version": "3.8.5"
  }
 },
 "nbformat": 4,
 "nbformat_minor": 4
}
